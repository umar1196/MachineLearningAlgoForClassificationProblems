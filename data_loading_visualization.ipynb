{
 "cells": [
  {
   "cell_type": "code",
   "execution_count": 1,
   "metadata": {},
   "outputs": [],
   "source": [
    "import sklearn\n",
    "import pandas as pd\n",
    "import seaborn as sns\n",
    "from matplotlib import pyplot as plt\n",
    "from sklearn.model_selection import train_test_split\n"
   ]
  },
  {
   "cell_type": "code",
   "execution_count": 23,
   "metadata": {},
   "outputs": [],
   "source": [
    "def data_loading_and_visualization(data):\n",
    "\n",
    "    ''' This function is used for visualization and spliting data into train test data '''\n",
    "    \n",
    "    df = pd.read_csv(data)\n",
    "    df.head(5)\n",
    "    \n",
    "    print('Shape of data', df.shape)\n",
    "    print('Statistic summary of dataframe', df.describe())\n",
    "    print('Unique values in data', df.nunique())\n",
    "        \n",
    "    print(\"Sum of null values in each column\", df.isnull().sum())\n",
    "    \n",
    "    X = df.iloc[:,0:13]\n",
    "    \n",
    "    y = df['num']\n",
    "    \n",
    "    X_train, X_test, y_train, y_test = train_test_split(X, y, test_size = 0.4, random_state = 4)\n",
    "    return X_train, X_test, y_train, y_test\n"
   ]
  }
 ],
 "metadata": {
  "kernelspec": {
   "display_name": "Python 3",
   "language": "python",
   "name": "python3"
  },
  "language_info": {
   "codemirror_mode": {
    "name": "ipython",
    "version": 2
   },
   "file_extension": ".py",
   "mimetype": "text/x-python",
   "name": "python",
   "nbconvert_exporter": "python",
   "pygments_lexer": "ipython2",
   "version": "2.7.15rc1"
  }
 },
 "nbformat": 4,
 "nbformat_minor": 2
}
