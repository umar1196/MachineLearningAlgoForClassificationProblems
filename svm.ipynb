{
 "cells": [
  {
   "cell_type": "code",
   "execution_count": 9,
   "metadata": {},
   "outputs": [],
   "source": [
    "#importing evaluation and visualization function\n",
    "import import_ipynb\n",
    "from data_loading_visualization import data_loading_and_visualization as df\n",
    "from model_evaluation import evaluation as evaluation"
   ]
  },
  {
   "cell_type": "code",
   "execution_count": 10,
   "metadata": {},
   "outputs": [],
   "source": [
    "from sklearn.svm import SVC\n",
    "\n",
    "def svm(X_train, y_train, X_test):\n",
    "    svc = SVC()\n",
    "    svc.fit(X_train, y_train)\n",
    "    svm_predicted_values = svc.predict(X_test)\n",
    "    return svm_predicted_values\n"
   ]
  },
  {
   "cell_type": "code",
   "execution_count": 11,
   "metadata": {},
   "outputs": [
    {
     "name": "stdout",
     "output_type": "stream",
     "text": [
      "('Shape of data', (303, 14))\n",
      "('Statistic summary of dataframe',               age         sex          cp    trestbps        chol         fbs  \\\n",
      "count  303.000000  303.000000  303.000000  303.000000  303.000000  303.000000   \n",
      "mean    54.438944    0.679868    3.158416  131.689769  246.693069    0.148515   \n",
      "std      9.038662    0.467299    0.960126   17.599748   51.776918    0.356198   \n",
      "min     29.000000    0.000000    1.000000   94.000000  126.000000    0.000000   \n",
      "25%     48.000000    0.000000    3.000000  120.000000  211.000000    0.000000   \n",
      "50%     56.000000    1.000000    3.000000  130.000000  241.000000    0.000000   \n",
      "75%     61.000000    1.000000    4.000000  140.000000  275.000000    0.000000   \n",
      "max     77.000000    1.000000    4.000000  200.000000  564.000000    1.000000   \n",
      "\n",
      "          restecg     thalach       exang     oldpeak       slope  \\\n",
      "count  303.000000  303.000000  303.000000  303.000000  303.000000   \n",
      "mean     0.990099  149.607261    0.326733    1.039604    1.600660   \n",
      "std      0.994971   22.875003    0.469794    1.161075    0.616226   \n",
      "min      0.000000   71.000000    0.000000    0.000000    1.000000   \n",
      "25%      0.000000  133.500000    0.000000    0.000000    1.000000   \n",
      "50%      1.000000  153.000000    0.000000    0.800000    2.000000   \n",
      "75%      2.000000  166.000000    1.000000    1.600000    2.000000   \n",
      "max      2.000000  202.000000    1.000000    6.200000    3.000000   \n",
      "\n",
      "                  ca           thal         num  \n",
      "count     303.000000     303.000000  303.000000  \n",
      "mean    -1319.468647    -655.363036    0.458746  \n",
      "std     11432.566205    8111.366638    0.499120  \n",
      "min   -100000.000000 -100000.000000    0.000000  \n",
      "25%         0.000000       3.000000    0.000000  \n",
      "50%         0.000000       3.000000    0.000000  \n",
      "75%         1.000000       7.000000    1.000000  \n",
      "max         3.000000       7.000000    1.000000  )\n",
      "('Unique values in data', age          41\n",
      "sex           2\n",
      "cp            4\n",
      "trestbps     50\n",
      "chol        152\n",
      "fbs           2\n",
      "restecg       3\n",
      "thalach      91\n",
      "exang         2\n",
      "oldpeak      40\n",
      "slope         3\n",
      "ca            5\n",
      "thal          4\n",
      "num           2\n",
      "dtype: int64)\n",
      "('Sum of null values in each column', age         0\n",
      "sex         0\n",
      "cp          0\n",
      "trestbps    0\n",
      "chol        0\n",
      "fbs         0\n",
      "restecg     0\n",
      "thalach     0\n",
      "exang       0\n",
      "oldpeak     0\n",
      "slope       0\n",
      "ca          0\n",
      "thal        0\n",
      "num         0\n",
      "dtype: int64)\n"
     ]
    }
   ],
   "source": [
    "#calling functions\n",
    "data = 'heart_disease_dataset.csv'\n",
    "X_train, X_test, y_train, y_test = df(data)\n"
   ]
  },
  {
   "cell_type": "code",
   "execution_count": 12,
   "metadata": {},
   "outputs": [
    {
     "name": "stdout",
     "output_type": "stream",
     "text": [
      "('Accuracy', 0.5409836065573771)\n",
      "              precision    recall  f1-score   support\n",
      "\n",
      "           0       0.54      1.00      0.70        66\n",
      "           1       0.00      0.00      0.00        56\n",
      "\n",
      "   micro avg       0.54      0.54      0.54       122\n",
      "   macro avg       0.27      0.50      0.35       122\n",
      "weighted avg       0.29      0.54      0.38       122\n",
      "\n"
     ]
    },
    {
     "data": {
      "image/png": "[encoded data removed]",
      "text/plain": [
       "<Figure size 432x288 with 2 Axes>"
      ]
     },
     "metadata": {
      "needs_background": "light"
     },
     "output_type": "display_data"
    }
   ],
   "source": [
    "svm_prediction = svm(X_train, y_train, X_test)\n",
    "\n",
    "evaluation(svm_prediction, y_test)\n"
   ]
  },
  {
   "cell_type": "code",
   "execution_count": null,
   "metadata": {},
   "outputs": [],
   "source": []
  }
 ],
 "metadata": {
  "kernelspec": {
   "display_name": "Python 3",
   "language": "python",
   "name": "python3"
  },
  "language_info": {
   "codemirror_mode": {
    "name": "ipython",
    "version": 2
   },
   "file_extension": ".py",
   "mimetype": "text/x-python",
   "name": "python",
   "nbconvert_exporter": "python",
   "pygments_lexer": "ipython2",
   "version": "2.7.15rc1"
  }
 },
 "nbformat": 4,
 "nbformat_minor": 2
}
